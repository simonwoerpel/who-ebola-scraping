{
 "cells": [
  {
   "cell_type": "code",
   "execution_count": 22,
   "metadata": {
    "collapsed": true
   },
   "outputs": [],
   "source": [
    "import csv\n",
    "url_pattern = 'http://apps.who.int/gho/athena/xmart/xmart.csv?target=EBOLA_MEASURE/CASES,DEATHS&profile=crosstable&filter=COUNTRY:GIN;COUNTRY:UNSPECIFIED;COUNTRY:LBR;COUNTRY:UNSPECIFIED;COUNTRY:SLE;COUNTRY:UNSPECIFIED;LOCATION:-;DATAPACKAGEID:2016-01-06;INDICATOR_TYPE:SITREP_CUMULATIVE;INDICATOR_TYPE:SITREP_CUMULATIVE_21_DAYS;SEX:-&x-sideaxis=COUNTRY;EPI_DATE;CASE_DEFINITION&x-topaxis=EBOLA_MEASURE;INDICATOR_TYPE'\n",
    "rpl_date = '2016-01-06'"
   ]
  },
  {
   "cell_type": "code",
   "execution_count": 18,
   "metadata": {
    "collapsed": true
   },
   "outputs": [],
   "source": [
    "r = csv.reader(open('files.csv'))"
   ]
  },
  {
   "cell_type": "code",
   "execution_count": 19,
   "metadata": {
    "collapsed": false
   },
   "outputs": [],
   "source": [
    "rows = [ro for ro in r]"
   ]
  },
  {
   "cell_type": "code",
   "execution_count": 20,
   "metadata": {
    "collapsed": false
   },
   "outputs": [
    {
     "data": {
      "text/plain": [
       "283"
      ]
     },
     "execution_count": 20,
     "metadata": {},
     "output_type": "execute_result"
    }
   ],
   "source": [
    "len(rows)"
   ]
  },
  {
   "cell_type": "code",
   "execution_count": 21,
   "metadata": {
    "collapsed": false
   },
   "outputs": [
    {
     "data": {
      "text/plain": [
       "['2016-01-20',\n",
       " 'http://apps.who.int/gho/data/view.ebola-sitrep.ebola-summary-20160120?lang=en']"
      ]
     },
     "execution_count": 21,
     "metadata": {},
     "output_type": "execute_result"
    }
   ],
   "source": [
    "rows[0]"
   ]
  },
  {
   "cell_type": "code",
   "execution_count": 23,
   "metadata": {
    "collapsed": false
   },
   "outputs": [
    {
     "data": {
      "text/plain": [
       "'\"\",\"\",\"\",\"Number of cases\",\"Number of cases\",\"Number of deaths\"\\n\"Country\",\"Data as of\",\"Case definition\",\" Cumulative\",\" In past 21 days\",\" Cumulative\"\\n\"Guinea\",\" 28 December 2015\",\" Confirmed\",\"3351\",\"0\",\"2083\"\\n\"Guinea\",\" 28 December 2015\",\" Probable\",\"453\",\"Not reported.\",\"453\"\\n\"Guinea\",\" 28 December 2015\",\" Suspected\",\"0\",\"Not reported.\",\"Data not available.\"\\n\"Guinea\",\" 28 December 2015\",\" Total\",\"3804\",\"0\",\"2536\"\\n\"Liberia\",\" 3 January 2016\",\" Confirmed\",\"9\",\"0\",\"3\"\\n\"Liberia\",\" 3 January 2016\",\" Probable\",\"Not reported.\",\"Not reported.\",\"Data not available.\"\\n\"Liberia\",\" 3 January 2016\",\" Suspected\",\"Data not available.\",\"Not reported.\",\"Data not available.\"\\n\"Liberia\",\" 3 January 2016\",\" Total\",\"9\",\"0\",\"3\"\\n\"Liberia\",\" 9 May 2015\",\" Confirmed\",\"3151\",\"-\",\"Data not available.\"\\n\"Liberia\",\" 9 May 2015\",\" Probable\",\"1879\",\"-\",\"Data not available.\"\\n\"Liberia\",\" 9 May 2015\",\" Suspected\",\"5636\",\"-\",\"Data not available.\"\\n\"Liberia\",\" 9 May 2015\",\" Total\",\"10 666\",\"-\",\"4806\"\\n\"Sierra Leone\",\" 7 November 2015\",\" Confirmed\",\"8704\",\"0\",\"3589\"\\n\"Sierra Leone\",\" 7 November 2015\",\" Probable\",\"287\",\"Not reported.\",\"208\"\\n\"Sierra Leone\",\" 7 November 2015\",\" Suspected\",\"5131\",\"Not reported.\",\"158\"\\n\"Sierra Leone\",\" 7 November 2015\",\" Total\",\"14 122\",\"0\",\"3955\"\\n\"All countries\",\"  \",\" Confirmed\",\"15 215\",\"0\",\"Data not available.\"\\n\"All countries\",\"  \",\" Probable\",\"2619\",\"Not reported.\",\"Data not available.\"\\n\"All countries\",\"  \",\" Suspected\",\"10 767\",\"Not reported.\",\"Data not available.\"\\n\"All countries\",\"  \",\" Total\",\"28 601\",\"0\",\"11 300\"\\n'"
      ]
     },
     "execution_count": 23,
     "metadata": {},
     "output_type": "execute_result"
    }
   ],
   "source": [
    "import requests\n",
    "r = requests.get(url_pattern)\n",
    "r.text"
   ]
  },
  {
   "cell_type": "code",
   "execution_count": 24,
   "metadata": {
    "collapsed": true
   },
   "outputs": [],
   "source": [
    "with open('data.csv', 'w') as f:\n",
    "    f.writelines(r.text)"
   ]
  },
  {
   "cell_type": "code",
   "execution_count": 26,
   "metadata": {
    "collapsed": false
   },
   "outputs": [],
   "source": [
    "for row in rows:\n",
    "    date = row[0]\n",
    "    url = url_pattern.replace(rpl_date, date)\n",
    "    r = requests.get(url)\n",
    "    with open('{}.csv'.format(date), 'w') as f:\n",
    "        f.writelines(r.text)\n",
    "    "
   ]
  },
  {
   "cell_type": "code",
   "execution_count": null,
   "metadata": {
    "collapsed": true
   },
   "outputs": [],
   "source": []
  }
 ],
 "metadata": {
  "kernelspec": {
   "display_name": "Python 3",
   "language": "python",
   "name": "python3"
  },
  "language_info": {
   "codemirror_mode": {
    "name": "ipython",
    "version": 3
   },
   "file_extension": ".py",
   "mimetype": "text/x-python",
   "name": "python",
   "nbconvert_exporter": "python",
   "pygments_lexer": "ipython3",
   "version": "3.5.1+"
  }
 },
 "nbformat": 4,
 "nbformat_minor": 0
}
