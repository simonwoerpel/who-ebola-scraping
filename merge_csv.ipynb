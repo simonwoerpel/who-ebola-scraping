{
 "cells": [
  {
   "cell_type": "code",
   "execution_count": 1,
   "metadata": {
    "collapsed": false
   },
   "outputs": [
    {
     "data": {
      "text/plain": [
       "283"
      ]
     },
     "execution_count": 1,
     "metadata": {},
     "output_type": "execute_result"
    }
   ],
   "source": [
    "import csv\n",
    "r = csv.reader(open('files.csv'))\n",
    "files = [ro for ro in r]\n",
    "len(files)"
   ]
  },
  {
   "cell_type": "code",
   "execution_count": 2,
   "metadata": {
    "collapsed": false
   },
   "outputs": [
    {
     "data": {
      "text/plain": [
       "[['2016-01-20',\n",
       "  'http://apps.who.int/gho/data/view.ebola-sitrep.ebola-summary-20160120?lang=en'],\n",
       " ['2016-01-13',\n",
       "  'http://apps.who.int/gho/data/view.ebola-sitrep.ebola-summary-20160113?lang=en']]"
      ]
     },
     "execution_count": 2,
     "metadata": {},
     "output_type": "execute_result"
    }
   ],
   "source": [
    "files[:2]"
   ]
  },
  {
   "cell_type": "code",
   "execution_count": 85,
   "metadata": {
    "collapsed": true
   },
   "outputs": [],
   "source": [
    "DATA_DIR = 'data'\n",
    "FIELDS = [\"CSV Source date\", \"Country\", \"Data as of\", \"Case definition\", \"Number of cases (Cumulative)\", \"Number of cases (In past 21 days)\", \"Number of deaths (cumulative)\"]"
   ]
  },
  {
   "cell_type": "code",
   "execution_count": 12,
   "metadata": {
    "collapsed": false
   },
   "outputs": [
    {
     "data": {
      "text/plain": [
       "6"
      ]
     },
     "execution_count": 12,
     "metadata": {},
     "output_type": "execute_result"
    }
   ],
   "source": [
    "testfile = csv.reader(open('%s/%s.csv' % (DATA_DIR, files[0][0])))\n",
    "data = [r for r in testfile]\n",
    "len(data[0])"
   ]
  },
  {
   "cell_type": "code",
   "execution_count": 119,
   "metadata": {
    "collapsed": false
   },
   "outputs": [
    {
     "data": {
      "text/plain": [
       "(4854, 283, 283)"
      ]
     },
     "execution_count": 119,
     "metadata": {},
     "output_type": "execute_result"
    }
   ],
   "source": [
    "skipped_rows = []\n",
    "datas = []\n",
    "rows = []\n",
    "for f in reversed(files):\n",
    "    _data = [r for r in csv.reader(open('%s/%s.csv' % (DATA_DIR, f[0])))]\n",
    "    data = _data[2:]\n",
    "    for i in _data[:2]:\n",
    "        skipped_rows += [_i.strip() for _i in i]\n",
    "    datas.append(f[0])\n",
    "    for da in data:\n",
    "        ds = []\n",
    "        for d in da:\n",
    "            try:\n",
    "                ds.append(str(int(d.strip().replace(' ',''))))\n",
    "            except ValueError:\n",
    "                if d.strip() == '-':\n",
    "                    d = ''\n",
    "                ds.append(d.strip())\n",
    "        row = [f[0]] + ds\n",
    "        rows.append(row)\n",
    "(len(rows), len(datas), len(files))"
   ]
  },
  {
   "cell_type": "code",
   "execution_count": 120,
   "metadata": {
    "collapsed": false
   },
   "outputs": [
    {
     "data": {
      "text/plain": [
       "['2014-11-12', 'Guinea', 'Confirmed', '1612', '313', '934']"
      ]
     },
     "execution_count": 120,
     "metadata": {},
     "output_type": "execute_result"
    }
   ],
   "source": [
    "rows[0]"
   ]
  },
  {
   "cell_type": "code",
   "execution_count": 121,
   "metadata": {
    "collapsed": false
   },
   "outputs": [
    {
     "data": {
      "text/plain": [
       "17.151943462897528"
      ]
     },
     "execution_count": 121,
     "metadata": {},
     "output_type": "execute_result"
    }
   ],
   "source": [
    "len(rows) / len(files)"
   ]
  },
  {
   "cell_type": "code",
   "execution_count": 122,
   "metadata": {
    "collapsed": false
   },
   "outputs": [
    {
     "data": {
      "text/plain": [
       "[['2014-11-12', 'Guinea', 'Confirmed', '1612', '313', '934'],\n",
       " ['2014-11-12', 'Guinea', 'Probable', '208', '12', '208'],\n",
       " ['2014-11-12', 'Guinea', 'Suspected', '58', 'Not reported', '0'],\n",
       " ['2014-11-12', 'Guinea', 'Total', '1878', '325', '1142'],\n",
       " ['2014-11-12', 'Liberia', 'Confirmed', '2553', '335', 'Not reported'],\n",
       " ['2014-11-12', 'Liberia', 'Probable', '1687', '131', 'Not reported'],\n",
       " ['2014-11-12',\n",
       "  'Liberia',\n",
       "  'Suspected',\n",
       "  '2582',\n",
       "  'Not reported',\n",
       "  'Not reported'],\n",
       " ['2014-11-12', 'Liberia', 'Total', '6822', '466', '2836'],\n",
       " ['2014-11-12', 'Sierra Leone', 'Confirmed', '4523', '1197', '960'],\n",
       " ['2014-11-12', 'Sierra Leone', 'Probable', '79', '14', '174'],\n",
       " ['2014-11-12', 'Sierra Leone', 'Suspected', '766', 'Not reported', '35'],\n",
       " ['2014-11-12', 'Sierra Leone', 'Total', '5368', '1211', '1169'],\n",
       " ['2014-11-14', 'Guinea', 'Confirmed', '1647', '958'],\n",
       " ['2014-11-14', 'Guinea', 'Probable', '208', '208'],\n",
       " ['2014-11-14', 'Guinea', 'Suspected', '64', '0'],\n",
       " ['2014-11-14', 'Guinea', 'Total', '1919', '1166'],\n",
       " ['2014-11-14', 'Liberia', 'Confirmed', '2562', 'Not reported'],\n",
       " ['2014-11-14', 'Liberia', 'Probable', '1716', 'Not reported'],\n",
       " ['2014-11-14', 'Liberia', 'Suspected', '2600', 'Not reported'],\n",
       " ['2014-11-14', 'Liberia', 'Total', '6878', '2812']]"
      ]
     },
     "execution_count": 122,
     "metadata": {},
     "output_type": "execute_result"
    }
   ],
   "source": [
    "rows[:20]"
   ]
  },
  {
   "cell_type": "code",
   "execution_count": 123,
   "metadata": {
    "collapsed": false
   },
   "outputs": [
    {
     "data": {
      "text/plain": [
       "[5, 6, 7]"
      ]
     },
     "execution_count": 123,
     "metadata": {},
     "output_type": "execute_result"
    }
   ],
   "source": [
    "list(set([len(r) for r in rows]))"
   ]
  },
  {
   "cell_type": "code",
   "execution_count": 124,
   "metadata": {
    "collapsed": false
   },
   "outputs": [
    {
     "data": {
      "text/plain": [
       "['2014-11-14', 'Guinea', 'Confirmed', '1647', '958']"
      ]
     },
     "execution_count": 124,
     "metadata": {},
     "output_type": "execute_result"
    }
   ],
   "source": [
    "[r for r in rows if len(r) == 5][0]"
   ]
  },
  {
   "cell_type": "code",
   "execution_count": 125,
   "metadata": {
    "collapsed": false
   },
   "outputs": [
    {
     "data": {
      "text/plain": [
       "['2014-11-12', 'Guinea', 'Confirmed', '1612', '313', '934']"
      ]
     },
     "execution_count": 125,
     "metadata": {},
     "output_type": "execute_result"
    }
   ],
   "source": [
    "[r for r in rows if len(r) == 6][0]"
   ]
  },
  {
   "cell_type": "code",
   "execution_count": 126,
   "metadata": {
    "collapsed": false
   },
   "outputs": [
    {
     "data": {
      "text/plain": [
       "['2014-12-03',\n",
       " 'Guinea',\n",
       " '30 November 2014',\n",
       " 'Confirmed',\n",
       " '1929',\n",
       " '306',\n",
       " '1117']"
      ]
     },
     "execution_count": 126,
     "metadata": {},
     "output_type": "execute_result"
    }
   ],
   "source": [
    "[r for r in rows if len(r) == 7][0]"
   ]
  },
  {
   "cell_type": "code",
   "execution_count": 127,
   "metadata": {
    "collapsed": false
   },
   "outputs": [
    {
     "data": {
      "text/plain": [
       "['2014-11-12', 'Guinea']"
      ]
     },
     "execution_count": 127,
     "metadata": {},
     "output_type": "execute_result"
    }
   ],
   "source": [
    "data = rows[0]\n",
    "data[:2]"
   ]
  },
  {
   "cell_type": "code",
   "execution_count": 128,
   "metadata": {
    "collapsed": false
   },
   "outputs": [
    {
     "data": {
      "text/plain": [
       "['2014-11-12', 'Guinea', 'Confirmed', '1612', '313', '934']"
      ]
     },
     "execution_count": 128,
     "metadata": {},
     "output_type": "execute_result"
    }
   ],
   "source": [
    "data"
   ]
  },
  {
   "cell_type": "code",
   "execution_count": 129,
   "metadata": {
    "collapsed": false
   },
   "outputs": [
    {
     "data": {
      "text/plain": [
       "['Confirmed', '1612', '313', '934']"
      ]
     },
     "execution_count": 129,
     "metadata": {},
     "output_type": "execute_result"
    }
   ],
   "source": [
    "data[2:]"
   ]
  },
  {
   "cell_type": "code",
   "execution_count": 130,
   "metadata": {
    "collapsed": false
   },
   "outputs": [
    {
     "data": {
      "text/plain": [
       "True"
      ]
     },
     "execution_count": 130,
     "metadata": {},
     "output_type": "execute_result"
    }
   ],
   "source": [
    "csv_rows = []\n",
    "for data in rows:\n",
    "    if len(data) == 5:\n",
    "        row = ','.join(data[:2] + [''] + [data[2]] + [data[3]] + [''] + [data[4]])\n",
    "    if len(data) == 6:\n",
    "        row = ','.join(data[:2] + [''] + data[2:])\n",
    "    if len(data) == 7:\n",
    "        row = ','.join(data)\n",
    "    csv_rows.append(row)\n",
    "len(csv_rows) == len(rows)"
   ]
  },
  {
   "cell_type": "code",
   "execution_count": 131,
   "metadata": {
    "collapsed": true
   },
   "outputs": [],
   "source": [
    "with open('full_data.csv', 'w') as f:\n",
    "    f.writelines('%s\\n' % ','.join(FIELDS))\n",
    "    for l in csv_rows:\n",
    "        f.writelines('%s\\n' % l)"
   ]
  },
  {
   "cell_type": "code",
   "execution_count": 132,
   "metadata": {
    "collapsed": false
   },
   "outputs": [
    {
     "data": {
      "text/plain": [
       "1473.0"
      ]
     },
     "execution_count": 132,
     "metadata": {},
     "output_type": "execute_result"
    }
   ],
   "source": [
    "len(skipped_rows) / 2"
   ]
  },
  {
   "cell_type": "code",
   "execution_count": 133,
   "metadata": {
    "collapsed": false
   },
   "outputs": [
    {
     "data": {
      "text/plain": [
       "['',\n",
       " 'Data as of',\n",
       " 'Case definition',\n",
       " 'Country',\n",
       " 'Number of cases',\n",
       " 'In past 21 days',\n",
       " 'Cumulative',\n",
       " 'Number of deaths']"
      ]
     },
     "execution_count": 133,
     "metadata": {},
     "output_type": "execute_result"
    }
   ],
   "source": [
    "list(set(skipped_rows))"
   ]
  },
  {
   "cell_type": "code",
   "execution_count": null,
   "metadata": {
    "collapsed": true
   },
   "outputs": [],
   "source": []
  }
 ],
 "metadata": {
  "kernelspec": {
   "display_name": "Python 3",
   "language": "python",
   "name": "python3"
  },
  "language_info": {
   "codemirror_mode": {
    "name": "ipython",
    "version": 3
   },
   "file_extension": ".py",
   "mimetype": "text/x-python",
   "name": "python",
   "nbconvert_exporter": "python",
   "pygments_lexer": "ipython3",
   "version": "3.5.1+"
  }
 },
 "nbformat": 4,
 "nbformat_minor": 0
}
